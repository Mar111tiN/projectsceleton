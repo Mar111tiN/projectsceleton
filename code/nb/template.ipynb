{
 "cells": [
  {
   "cell_type": "code",
   "execution_count": 1,
   "id": "9709a4bb",
   "metadata": {
    "ExecuteTime": {
     "end_time": "2022-07-04T09:18:09.509672Z",
     "start_time": "2022-07-04T09:18:09.492120Z"
    }
   },
   "outputs": [],
   "source": [
    "# some sensible settings for better output\n",
    "import os\n",
    "import pandas as pd\n",
    "from IPython.display import display\n",
    "pd.set_option('display.max_columns', None)\n",
    "pd.set_option('display.max_rows', 200)\n",
    "from IPython.core.interactiveshell import InteractiveShell\n",
    "InteractiveShell.ast_node_interactivity = \"all\"\n",
    "pd.set_option('max_colwidth', 200)\n",
    "pd.options.mode.chained_assignment = None\n",
    "# get the code\n",
    "import sys\n",
    "\n",
    "\n",
    "# set your PATH environments for more flexibility\n",
    "home = os.environ['HOME']\n",
    "# all my data and projects are relative to the work directory (set as WORK env)\n",
    "work = os.environ['WORK']\n",
    "\n",
    "# if you have code stored centrally (e.g. cloned from your git repo) add it here\n",
    "# should point directly into the code folder containing the .py-files\n",
    "path_to_external_code = \"\"\n",
    "\n",
    "\n",
    "sys.path.append(path_to_external_code)\n",
    "\n",
    "# import stuff from external data\n",
    "# from <.....> import <your_function>\n",
    "\n",
    "# here you should set the path to your project folder (all subsequent paths are relative to it\n",
    "# eg. change \"sceleton\" with the name of your project folder or change the entire path \n",
    "base_path = os.path.join(work, 'sceleton')\n",
    "info_path = os.path.join(base_path, \"info\")\n",
    "data_path = os.path.join(base_path, \"data\")\n",
    "output_path = os.path.join(base_path, \"output\")\n",
    "img_path = os.path.join(output_path, \"img\")\n",
    "\n",
    "\n",
    "sys.path.append(os.path.join(base_path, \"code/py\"))\n",
    "from script_utils import show_output\n",
    "from helper import load_file_and_store"
   ]
  },
  {
   "cell_type": "markdown",
   "id": "b6ba397c",
   "metadata": {},
   "source": [
    "##  testing all the paths"
   ]
  },
  {
   "cell_type": "code",
   "execution_count": 2,
   "id": "ed459432",
   "metadata": {
    "ExecuteTime": {
     "end_time": "2022-07-04T09:18:11.041229Z",
     "start_time": "2022-07-04T09:18:10.997196Z"
    }
   },
   "outputs": [
    {
     "name": "stdout",
     "output_type": "stream",
     "text": [
      "\u001b[1;30;1mLoading file /Users/martinszyska/Dropbox/Icke/Work/.sceleton/data/testdata.xlsx\u001b[0m\n",
      "\u001b[1;35;2mDetected column0: Unnamed: 0\u001b[0m\n",
      "\u001b[1;35;2mDetected column1: Unnamed: 1\u001b[0m\n",
      "\u001b[1;35;2mDetected column2: M-CSF (51)\u001b[0m\n",
      "\u001b[1;35;2mDetected column3: CXCL9/MIG (47)\u001b[0m\n",
      "\u001b[1;35;2mDetected column4: CXCL7/NAP2 (13)\u001b[0m\n",
      "\u001b[1;35;2mDetected column5: CXCL6/GCP2 (15)\u001b[0m\n",
      "\u001b[1;35;2mDetected column6: CXCL11/I-TAC (19)\u001b[0m\n",
      "\u001b[1;35;2mDetected column7: CCL14a/HCC-1 (21)\u001b[0m\n",
      "\u001b[1;35;2mDetected column8: CCL19/MIP3ß (26)\u001b[0m\n",
      "\u001b[1;35;2mDetected column9: CCL20/MIP3a (28)\u001b[0m\n",
      "\u001b[1;35;2mDetected column10: XCL1/Lymphotactin (30)\u001b[0m\n",
      "\u001b[1;35;2mDetected column11: IL-11 (34)\u001b[0m\n",
      "\u001b[1;35;2mDetected column12: IL-29/IFN-lamda1 (36)\u001b[0m\n",
      "\u001b[1;31;1mDetected47 data entries\u001b[0m\n",
      "\u001b[1;36;1mConverted  to csv and saved as csv to /Users/martinszyska/Dropbox/Icke/Work/.sceleton/output/testdata.csv\u001b[0m\n"
     ]
    }
   ],
   "source": [
    "test_file = os.path.join(data_path, \"testdata.xlsx\")\n",
    "out_file = os.path.join(output_path, \"testdata.csv\")\n",
    "\n",
    "df = load_file_and_store(test_file, out_file)"
   ]
  },
  {
   "cell_type": "code",
   "execution_count": null,
   "id": "1b76aaf7",
   "metadata": {},
   "outputs": [],
   "source": []
  }
 ],
 "metadata": {
  "kernelspec": {
   "display_name": "Python 3 (ipykernel)",
   "language": "python",
   "name": "python3"
  },
  "language_info": {
   "codemirror_mode": {
    "name": "ipython",
    "version": 3
   },
   "file_extension": ".py",
   "mimetype": "text/x-python",
   "name": "python",
   "nbconvert_exporter": "python",
   "pygments_lexer": "ipython3",
   "version": "3.10.4"
  },
  "latex_envs": {
   "LaTeX_envs_menu_present": true,
   "autoclose": false,
   "autocomplete": true,
   "bibliofile": "biblio.bib",
   "cite_by": "apalike",
   "current_citInitial": 1,
   "eqLabelWithNumbers": true,
   "eqNumInitial": 1,
   "hotkeys": {
    "equation": "Ctrl-E",
    "itemize": "Ctrl-I"
   },
   "labels_anchors": false,
   "latex_user_defs": false,
   "report_style_numbering": false,
   "user_envs_cfg": false
  },
  "varInspector": {
   "cols": {
    "lenName": 16,
    "lenType": 16,
    "lenVar": 40
   },
   "kernels_config": {
    "python": {
     "delete_cmd_postfix": "",
     "delete_cmd_prefix": "del ",
     "library": "var_list.py",
     "varRefreshCmd": "print(var_dic_list())"
    },
    "r": {
     "delete_cmd_postfix": ") ",
     "delete_cmd_prefix": "rm(",
     "library": "var_list.r",
     "varRefreshCmd": "cat(var_dic_list()) "
    }
   },
   "types_to_exclude": [
    "module",
    "function",
    "builtin_function_or_method",
    "instance",
    "_Feature"
   ],
   "window_display": false
  }
 },
 "nbformat": 4,
 "nbformat_minor": 5
}
