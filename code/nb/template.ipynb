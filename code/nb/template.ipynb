{
 "cells": [
  {
   "cell_type": "markdown",
   "id": "59df5714",
   "metadata": {},
   "source": [
    "# This is a simple template project\n",
    "+ ### it converts a simple excel-file into a csv-file and stores it in an output folder\n",
    "+ ### it showcases:\n",
    "    * setting of global paths as anchors for data stored relative to it\n",
    "    * importing externally and locally stored code and configs\n",
    "    * using yaml config files to store project settings to load\n",
    "        + this is useful for graphical output with lots of settings for graphical output\n",
    "        + the config_wrapper\n",
    "            * loads these configs (updating kwargs it finds at function call)\n",
    "            * runs the two \"core\" functions\" supplying tool-specific keyword-arguments\n",
    "    * possible organisation of data and code\n",
    "    * most importantly, COLORED OUTPUT!!!"
   ]
  },
  {
   "cell_type": "markdown",
   "id": "89aadb14",
   "metadata": {},
   "source": [
    "## Here come the boilerplate code for sensible settings \n",
    "+ import of standard libraries\n",
    "+ some nicer display settings\n",
    "+ setting of paths to your data, output etc\n",
    "+ import global and locally stored code to use in this notebook"
   ]
  },
  {
   "cell_type": "code",
   "execution_count": null,
   "id": "9709a4bb",
   "metadata": {
    "ExecuteTime": {
     "end_time": "2022-07-18T09:22:30.205973Z",
     "start_time": "2022-07-18T09:22:30.181528Z"
    }
   },
   "outputs": [],
   "source": [
    "# some sensible settings for better output\n",
    "import os\n",
    "import pandas as pd\n",
    "from IPython.display import display\n",
    "pd.set_option('display.max_columns', None)\n",
    "pd.set_option('display.max_rows', 200)\n",
    "from IPython.core.interactiveshell import InteractiveShell\n",
    "InteractiveShell.ast_node_interactivity = \"all\"\n",
    "pd.set_option('max_colwidth', 200)\n",
    "pd.options.mode.chained_assignment = None\n",
    "# get the code\n",
    "import sys\n",
    "\n",
    "\n",
    "### set your PATH environments for more flexibility\n",
    "home = os.environ['HOME']\n",
    "### all my data and projects are relative to the work directory (that I globally set as WORK env)\n",
    "# work = os.environ['WORK']\n",
    "### !!!! if you do not want to set global envs, set this manually here (as a string):\n",
    "work = os.path.join(home, <your_rel_path_to_work_stuff>)\n",
    "### or as absolute path\n",
    "work = <your_absolute_path_to_work_stuff>\n",
    "\n",
    "### if you have code stored centrally (e.g. cloned from your git repo) add it here\n",
    "### should point directly into the code folder containing the .py-files you want to use\n",
    "# path_to_external_code = \"\"\n",
    "# sys.path.append(path_to_external_code)\n",
    " \n",
    "### import stuff (functions, classes, data_dicts) from external data\n",
    "### ommit the .py extension from the file you are importing\n",
    "# from <import_file> import <your_function>\n",
    "# from <import_file> import *      # if you want to import everything into your name space\n",
    "# import <import_file>         # if you import like this, you can use functions etc. like so:\n",
    "# <import_file>.<your_function>()  # functions are kept in the files namespace (like methods)\n",
    "\n",
    "### here you should set the path to your project folder \n",
    "### of course you can always use absolute paths \n",
    "# eg. change \"sceleton\" with the name of your project folder or change the entire path \n",
    "base_path = os.path.join(work, 'sceleton')\n",
    "### all subsequent paths are set relative to base_path \n",
    "info_path = os.path.join(base_path, \"info\")\n",
    "data_path = os.path.join(base_path, \"data\")\n",
    "config_path = os.path.join(base_path, \"code/config\")\n",
    "output_path = os.path.join(base_path, \"output\")\n",
    "img_path = os.path.join(output_path, \"img\")\n",
    "\n",
    "# import local python code (placed in base/code/py)\n",
    "sys.path.append(os.path.join(base_path, \"code/py\"))\n",
    "from script_utils import show_output\n",
    "from helper import load_and_save, simple_message"
   ]
  },
  {
   "cell_type": "markdown",
   "id": "b6ba397c",
   "metadata": {},
   "source": [
    "##  testing all the paths and functionality\n",
    "+ ### first, the load_and_save_function"
   ]
  },
  {
   "cell_type": "code",
   "execution_count": null,
   "id": "ed459432",
   "metadata": {
    "ExecuteTime": {
     "end_time": "2022-07-18T09:20:38.380681Z",
     "start_time": "2022-07-18T09:20:38.328383Z"
    }
   },
   "outputs": [],
   "source": [
    "test_file = os.path.join(data_path, \"testdata.xlsx\")\n",
    "out_file = os.path.join(output_path, \"testdata.csv\")\n",
    "\n",
    "df = load_and_save(test_file, out_file)\n",
    "df"
   ]
  },
  {
   "cell_type": "code",
   "execution_count": null,
   "id": "8ece2abd",
   "metadata": {
    "ExecuteTime": {
     "end_time": "2022-07-18T09:20:38.734701Z",
     "start_time": "2022-07-18T09:20:38.699562Z"
    }
   },
   "outputs": [],
   "source": [
    "df = load_and_save(test_file, out_file, read_lines = 10, verbose=True)"
   ]
  },
  {
   "cell_type": "markdown",
   "id": "ef2be266",
   "metadata": {},
   "source": [
    "+ ### next, the simple_message tool:"
   ]
  },
  {
   "cell_type": "code",
   "execution_count": null,
   "id": "5db8b2bd",
   "metadata": {
    "ExecuteTime": {
     "end_time": "2022-07-18T09:20:39.456406Z",
     "start_time": "2022-07-18T09:20:39.449529Z"
    }
   },
   "outputs": [],
   "source": [
    "simple_message()"
   ]
  },
  {
   "cell_type": "code",
   "execution_count": null,
   "id": "8b7081c3",
   "metadata": {
    "ExecuteTime": {
     "end_time": "2022-07-18T09:20:40.121733Z",
     "start_time": "2022-07-18T09:20:40.113347Z"
    }
   },
   "outputs": [],
   "source": [
    "simple_message(\n",
    "    message=\"Hi there\",\n",
    "    data=[l * (i+1) for i,l in enumerate(\"ABCDEFG\")]\n",
    ")"
   ]
  },
  {
   "cell_type": "markdown",
   "id": "b77f810b",
   "metadata": {},
   "source": [
    "+ ### and now the config wrapper\n",
    "    + gets all config and stuff from the test_config"
   ]
  },
  {
   "cell_type": "code",
   "execution_count": null,
   "id": "ae6cb7fc",
   "metadata": {
    "ExecuteTime": {
     "end_time": "2022-07-18T09:20:41.162566Z",
     "start_time": "2022-07-18T09:20:41.123606Z"
    }
   },
   "outputs": [],
   "source": [
    "from helper import config_wrapper\n",
    "config_file = os.path.join(config_path, \"test_config.yml\")\n",
    "\n",
    "df = config_wrapper(test_file, out_file, config_file=config_file)\n",
    "df"
   ]
  },
  {
   "cell_type": "markdown",
   "id": "8d1221f9",
   "metadata": {},
   "source": [
    "+ arguments from config can be overwritten"
   ]
  },
  {
   "cell_type": "code",
   "execution_count": null,
   "id": "adbe2d06",
   "metadata": {
    "ExecuteTime": {
     "end_time": "2022-07-18T09:20:51.891951Z",
     "start_time": "2022-07-18T09:20:51.854932Z"
    }
   },
   "outputs": [],
   "source": [
    "df = config_wrapper(\n",
    "    test_file, out_file, \n",
    "    config_file=config_file,\n",
    "    read_lines=6,\n",
    "    message=\"Hi there\",\n",
    "    data=[1,2,3]\n",
    ")\n",
    "df"
   ]
  }
 ],
 "metadata": {
  "kernelspec": {
   "display_name": "Python 3 (ipykernel)",
   "language": "python",
   "name": "python3"
  },
  "language_info": {
   "codemirror_mode": {
    "name": "ipython",
    "version": 3
   },
   "file_extension": ".py",
   "mimetype": "text/x-python",
   "name": "python",
   "nbconvert_exporter": "python",
   "pygments_lexer": "ipython3",
   "version": "3.10.4"
  },
  "latex_envs": {
   "LaTeX_envs_menu_present": true,
   "autoclose": false,
   "autocomplete": true,
   "bibliofile": "biblio.bib",
   "cite_by": "apalike",
   "current_citInitial": 1,
   "eqLabelWithNumbers": true,
   "eqNumInitial": 1,
   "hotkeys": {
    "equation": "Ctrl-E",
    "itemize": "Ctrl-I"
   },
   "labels_anchors": false,
   "latex_user_defs": false,
   "report_style_numbering": false,
   "user_envs_cfg": false
  },
  "varInspector": {
   "cols": {
    "lenName": 16,
    "lenType": 16,
    "lenVar": 40
   },
   "kernels_config": {
    "python": {
     "delete_cmd_postfix": "",
     "delete_cmd_prefix": "del ",
     "library": "var_list.py",
     "varRefreshCmd": "print(var_dic_list())"
    },
    "r": {
     "delete_cmd_postfix": ") ",
     "delete_cmd_prefix": "rm(",
     "library": "var_list.r",
     "varRefreshCmd": "cat(var_dic_list()) "
    }
   },
   "types_to_exclude": [
    "module",
    "function",
    "builtin_function_or_method",
    "instance",
    "_Feature"
   ],
   "window_display": false
  },
  "vscode": {
   "interpreter": {
    "hash": "72c4deda61de9bd7ee13145e0762f217c02929a810608afbafc9f574324658e2"
   }
  }
 },
 "nbformat": 4,
 "nbformat_minor": 5
}
